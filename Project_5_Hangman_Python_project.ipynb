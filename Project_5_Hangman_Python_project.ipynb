{
  "nbformat": 4,
  "nbformat_minor": 0,
  "metadata": {
    "colab": {
      "provenance": [],
      "authorship_tag": "ABX9TyOVx+buaAw4+yn/2FHGakxm",
      "include_colab_link": true
    },
    "kernelspec": {
      "name": "python3",
      "display_name": "Python 3"
    },
    "language_info": {
      "name": "python"
    }
  },
  "cells": [
    {
      "cell_type": "markdown",
      "metadata": {
        "id": "view-in-github",
        "colab_type": "text"
      },
      "source": [
        "<a href=\"https://colab.research.google.com/github/aliasgher75/piaic_batch66/blob/main/Project_5_Hangman_Python_project.ipynb\" target=\"_parent\"><img src=\"https://colab.research.google.com/assets/colab-badge.svg\" alt=\"Open In Colab\"/></a>"
      ]
    },
    {
      "cell_type": "code",
      "source": [
        "!curl -o words.py https://raw.githubusercontent.com/aliasgher75/piaic_batch66/refs/heads/main/words.py"
      ],
      "metadata": {
        "colab": {
          "base_uri": "https://localhost:8080/"
        },
        "id": "hrbZFDQp0Rfr",
        "outputId": "cb52d761-3106-4d7e-b385-d13f48966cb7"
      },
      "execution_count": 1,
      "outputs": [
        {
          "output_type": "stream",
          "name": "stdout",
          "text": [
            "  % Total    % Received % Xferd  Average Speed   Time    Time     Time  Current\n",
            "                                 Dload  Upload   Total   Spent    Left  Speed\n",
            "\r  0     0    0     0    0     0      0      0 --:--:-- --:--:-- --:--:--     0\r100 27620  100 27620    0     0   160k      0 --:--:-- --:--:-- --:--:--  160k\n"
          ]
        }
      ]
    },
    {
      "cell_type": "code",
      "execution_count": 10,
      "metadata": {
        "colab": {
          "base_uri": "https://localhost:8080/"
        },
        "id": "2nwXYPGCNuB6",
        "outputId": "52447bdb-2cbd-47ad-856b-53fe26652af7"
      },
      "outputs": [
        {
          "output_type": "stream",
          "name": "stdout",
          "text": [
            "You have  6  lives left and you have used these letters:  \n",
            "Current word:  - - - -\n",
            "Guess a letter: a\n",
            "Letter is not in word.\n",
            "You have  5  lives left and you have used these letters:  A\n",
            "Current word:  - - - -\n",
            "Guess a letter: b\n",
            "Letter is not in word.\n",
            "You have  4  lives left and you have used these letters:  A B\n",
            "Current word:  - - - -\n",
            "Guess a letter: c\n",
            "Letter is not in word.\n",
            "You have  3  lives left and you have used these letters:  A C B\n",
            "Current word:  - - - -\n",
            "Guess a letter: d\n",
            "Letter is not in word.\n",
            "You have  2  lives left and you have used these letters:  A C D B\n",
            "Current word:  - - - -\n",
            "Guess a letter: e\n",
            "Letter is not in word.\n",
            "You have  1  lives left and you have used these letters:  D B E A C\n",
            "Current word:  - - - -\n",
            "Guess a letter: f\n",
            "Letter is not in word.\n",
            "You died, sorry. The word was MILK\n"
          ]
        }
      ],
      "source": [
        "import random\n",
        "from words import words\n",
        "import string\n",
        "\n",
        "\n",
        "def get_valid_word(words):\n",
        "    word = random.choice(words)  #randomly choses something from the list\n",
        "    while '-' in word or ' ' in word:\n",
        "        word = random.choice(words)\n",
        "\n",
        "    return word.upper()\n",
        "\n",
        "\n",
        "def hangman():\n",
        "  word = get_valid_word(words)\n",
        "  word_letters = set(word)  #letters in the word\n",
        "  alphabet = set(string.ascii_uppercase)\n",
        "  used_letters = set()  #what the user has guessed\n",
        "\n",
        "  lives = 6\n",
        "\n",
        "  #getting user input\n",
        "  while len(word_letters) > 0 and lives > 0:\n",
        "    #letters used\n",
        "    # ' '.join(['a','b','cd]) -> 'a b cd'\n",
        "    print(\"You have \",lives,\" lives left and you have used these letters: \",' '.join(used_letters))\n",
        "\n",
        "    #what current word is (ie W - R D)\n",
        "    word_list = [letter if letter in used_letters else '-' for letter in word]\n",
        "    print(\"Current word: \",' '.join(word_list))\n",
        "\n",
        "    user_letter = input(\"Guess a letter: \").upper()\n",
        "    if user_letter in alphabet - used_letters :\n",
        "      used_letters.add(user_letter)\n",
        "      if user_letter in word_letters:\n",
        "        word_letters.remove(user_letter)\n",
        "      else:\n",
        "        lives = lives - 1\n",
        "        print(\"Letter is not in word.\")\n",
        "\n",
        "    elif user_letter in used_letters:\n",
        "      print(\"You have already used that character. Please try again.\")\n",
        "\n",
        "    else:\n",
        "      print(\"Invalid character. Please try again.\")\n",
        "\n",
        "  #gets here when len(word_letters) == 0 or when lives == 0\n",
        "  if lives == 0:\n",
        "    print(\"You died, sorry. The word was\",word)\n",
        "  else:\n",
        "    print(\"YAY! You guessed the word\",word,\"!!\")\n",
        "\n",
        "\n",
        "\n",
        "\n",
        "hangman()"
      ]
    },
    {
      "cell_type": "code",
      "source": [],
      "metadata": {
        "id": "CekJ3q8p0Qa9"
      },
      "execution_count": null,
      "outputs": []
    }
  ]
}
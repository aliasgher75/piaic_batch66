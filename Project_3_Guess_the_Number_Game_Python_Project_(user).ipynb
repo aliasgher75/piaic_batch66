{
  "nbformat": 4,
  "nbformat_minor": 0,
  "metadata": {
    "colab": {
      "provenance": [],
      "authorship_tag": "ABX9TyPVFVlsW6lJmM6HrvRDrMXa",
      "include_colab_link": true
    },
    "kernelspec": {
      "name": "python3",
      "display_name": "Python 3"
    },
    "language_info": {
      "name": "python"
    }
  },
  "cells": [
    {
      "cell_type": "markdown",
      "metadata": {
        "id": "view-in-github",
        "colab_type": "text"
      },
      "source": [
        "<a href=\"https://colab.research.google.com/github/aliasgher75/piaic_batch66/blob/main/Project_3_Guess_the_Number_Game_Python_Project_(user).ipynb\" target=\"_parent\"><img src=\"https://colab.research.google.com/assets/colab-badge.svg\" alt=\"Open In Colab\"/></a>"
      ]
    },
    {
      "cell_type": "code",
      "execution_count": 2,
      "metadata": {
        "colab": {
          "base_uri": "https://localhost:8080/"
        },
        "id": "A_DwxpZdxx03",
        "outputId": "d8776736-15c3-4f20-9ac7-5f1e5cf112c5"
      },
      "outputs": [
        {
          "output_type": "stream",
          "name": "stdout",
          "text": [
            "Is 6 too high (H), too low (L), or correct (C)?? h\n",
            "Is 3 too high (H), too low (L), or correct (C)?? l\n",
            "Is 4 too high (H), too low (L), or correct (C)?? l\n",
            "Is 5 too high (H), too low (L), or correct (C)?? c\n",
            "Yay! The computer guessed your number, 5, correctly!\n"
          ]
        }
      ],
      "source": [
        "import random\n",
        "\n",
        "def computer_guess(x : int) :\n",
        "  low : int = 1\n",
        "  high : int = x\n",
        "  feedback : str = ''\n",
        "  while feedback != 'c' :\n",
        "    if low != high :\n",
        "      guess : int = random.randint(low, high)\n",
        "    else :\n",
        "      guess : int = low\n",
        "\n",
        "    feedback = input(f'Is {guess} too high (H), too low (L), or correct (C)?? ').lower()\n",
        "    if feedback == 'h' :\n",
        "      high = guess - 1\n",
        "    elif feedback == 'l' :\n",
        "      low = guess + 1\n",
        "\n",
        "  print(f'Yay! The computer guessed your number, {guess}, correctly!')\n",
        "\n",
        "computer_guess(10)"
      ]
    }
  ]
}
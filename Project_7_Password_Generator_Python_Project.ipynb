{
  "nbformat": 4,
  "nbformat_minor": 0,
  "metadata": {
    "colab": {
      "provenance": [],
      "authorship_tag": "ABX9TyOcx+FYceazBWTHB78Sf5rk",
      "include_colab_link": true
    },
    "kernelspec": {
      "name": "python3",
      "display_name": "Python 3"
    },
    "language_info": {
      "name": "python"
    }
  },
  "cells": [
    {
      "cell_type": "markdown",
      "metadata": {
        "id": "view-in-github",
        "colab_type": "text"
      },
      "source": [
        "<a href=\"https://colab.research.google.com/github/aliasgher75/piaic_batch66/blob/main/Project_7_Password_Generator_Python_Project.ipynb\" target=\"_parent\"><img src=\"https://colab.research.google.com/assets/colab-badge.svg\" alt=\"Open In Colab\"/></a>"
      ]
    },
    {
      "cell_type": "code",
      "execution_count": 2,
      "metadata": {
        "colab": {
          "base_uri": "https://localhost:8080/"
        },
        "id": "H1NnCM6NnPzr",
        "outputId": "3db29552-3ef8-4e7b-d8b0-e42bf0e36a6b"
      },
      "outputs": [
        {
          "output_type": "stream",
          "name": "stdout",
          "text": [
            "Amount of passwords to generate: 5\n",
            "Input your password length: 7\n",
            "Here are your passwords : \n",
            "------------------------\n",
            "uPnsMXx\n",
            "Shn7R#d\n",
            "NikahZx\n",
            "RGpI2Kp\n",
            "BaO7N4w\n",
            "------------------------\n"
          ]
        }
      ],
      "source": [
        "import random\n",
        "\n",
        "chars = \"abcdefghijklmnopqrstuvwxyzABCDEFGHIJKLMNOPQRSTUVWXYZ!@#$%^&*1234567890\"\n",
        "number = input(\"Amount of passwords to generate: \")\n",
        "number = int(number)\n",
        "\n",
        "length = input(\"Input your password length: \")\n",
        "length = int(length)\n",
        "\n",
        "print(\"Here are your passwords : \")\n",
        "print(\"------------------------\")\n",
        "\n",
        "for pwd in range(number):\n",
        "  passwords = ''\n",
        "  for c in range(length):\n",
        "    passwords += random.choice(chars)\n",
        "\n",
        "  print(passwords)\n",
        "\n",
        "print(\"------------------------\")\n",
        "\n"
      ]
    }
  ]
}
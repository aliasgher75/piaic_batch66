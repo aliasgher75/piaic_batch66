{
  "nbformat": 4,
  "nbformat_minor": 0,
  "metadata": {
    "colab": {
      "provenance": [],
      "authorship_tag": "ABX9TyN0r0L1Q9eSEuWa5ucdxjCK",
      "include_colab_link": true
    },
    "kernelspec": {
      "name": "python3",
      "display_name": "Python 3"
    },
    "language_info": {
      "name": "python"
    }
  },
  "cells": [
    {
      "cell_type": "markdown",
      "metadata": {
        "id": "view-in-github",
        "colab_type": "text"
      },
      "source": [
        "<a href=\"https://colab.research.google.com/github/aliasgher75/piaic_batch66/blob/main/Project_1_Mad_libs_Python_Project.ipynb\" target=\"_parent\"><img src=\"https://colab.research.google.com/assets/colab-badge.svg\" alt=\"Open In Colab\"/></a>"
      ]
    },
    {
      "cell_type": "code",
      "execution_count": null,
      "metadata": {
        "colab": {
          "base_uri": "https://localhost:8080/"
        },
        "id": "-8PutDhCeVic",
        "outputId": "28c4370a-56a4-4482-a336-48265d2f32ff"
      },
      "outputs": [
        {
          "output_type": "stream",
          "name": "stdout",
          "text": [
            "Subscribe to Ali Asgher\n",
            "Subscribe to Ali Asgher\n",
            "Subscribe to Ali Asgher\n"
          ]
        }
      ],
      "source": [
        "# string concatenation (aka how to put strings together)\n",
        "# suppose we want to create a string that says \"subscribe to ____\"\n",
        "youtuber = \"Ali Asgher\" # some string variable\n",
        "\n",
        "# a few ways to do this\n",
        "print(\"Subscribe to \"+youtuber)\n",
        "print(\"Subscribe to {}\".format(youtuber))\n",
        "print(f\"Subscribe to {youtuber}\")\n"
      ]
    },
    {
      "cell_type": "code",
      "source": [
        "adj = input(\"Adjective : \")\n",
        "verb1 = input(\"Verb : \")\n",
        "verb2 = input(\"Verb : \")\n",
        "famous_person = input(\"Famous Person : \")\n",
        "\n",
        "madlib = f\"Computer programming is so {adj}! It make me so excited all the times because \\\n",
        "I love to {verb1}.  Stay hydrated and {verb2} like you are {famous_person}!\"\n",
        "\n",
        "print(madlib)"
      ],
      "metadata": {
        "colab": {
          "base_uri": "https://localhost:8080/"
        },
        "id": "pRYUVIf3jX-p",
        "outputId": "e7dd2dea-5bd9-4031-90db-1ddf15302e73"
      },
      "execution_count": 1,
      "outputs": [
        {
          "output_type": "stream",
          "name": "stdout",
          "text": [
            "Adjective : amazing\n",
            "Verb : skydive\n",
            "Verb : jump\n",
            "Famous Person : Captain America\n",
            "Computer programming is so amazing! It make me so excited all the times because I love to skydive.  Stay hydrated and jump like you are Captain America!\n"
          ]
        }
      ]
    },
    {
      "cell_type": "code",
      "source": [],
      "metadata": {
        "id": "Bp9ETPJGlCtl"
      },
      "execution_count": null,
      "outputs": []
    }
  ]
}
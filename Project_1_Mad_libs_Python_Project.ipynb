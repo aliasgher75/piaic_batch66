{
  "nbformat": 4,
  "nbformat_minor": 0,
  "metadata": {
    "colab": {
      "provenance": [],
      "authorship_tag": "ABX9TyPuicnmUKSKAzCGNT2jCLjd",
      "include_colab_link": true
    },
    "kernelspec": {
      "name": "python3",
      "display_name": "Python 3"
    },
    "language_info": {
      "name": "python"
    }
  },
  "cells": [
    {
      "cell_type": "markdown",
      "metadata": {
        "id": "view-in-github",
        "colab_type": "text"
      },
      "source": [
        "<a href=\"https://colab.research.google.com/github/aliasgher75/piaic_batch66/blob/main/Project_1_Mad_libs_Python_Project.ipynb\" target=\"_parent\"><img src=\"https://colab.research.google.com/assets/colab-badge.svg\" alt=\"Open In Colab\"/></a>"
      ]
    },
    {
      "cell_type": "code",
      "execution_count": null,
      "metadata": {
        "colab": {
          "base_uri": "https://localhost:8080/"
        },
        "id": "-8PutDhCeVic",
        "outputId": "28c4370a-56a4-4482-a336-48265d2f32ff"
      },
      "outputs": [
        {
          "output_type": "stream",
          "name": "stdout",
          "text": [
            "Subscribe to Ali Asgher\n",
            "Subscribe to Ali Asgher\n",
            "Subscribe to Ali Asgher\n"
          ]
        }
      ],
      "source": [
        "# string concatenation (aka how to put strings together)\n",
        "# suppose we want to create a string that says \"subscribe to ____\"\n",
        "youtuber = \"Ali Asgher\" # some string variable\n",
        "\n",
        "# a few ways to do this\n",
        "print(\"Subscribe to \"+youtuber)\n",
        "print(\"Subscribe to {}\".format(youtuber))\n",
        "print(f\"Subscribe to {youtuber}\")\n"
      ]
    },
    {
      "cell_type": "code",
      "source": [
        "adj = input(\"Adjective : \")\n",
        "verb1 = input(\"Verb : \")\n",
        "verb2 = input(\"Verb : \")\n",
        "famous_person = input(\"Famous Person : \")\n",
        "\n",
        "madlib = f\"Computer programming is so {adj}! It make me so excited all the times because \\\n",
        "I love to {verb1}.  Stay hydrated and {verb2} like you are {famous_person}!\"\n",
        "\n",
        "print(madlib)"
      ],
      "metadata": {
        "colab": {
          "base_uri": "https://localhost:8080/"
        },
        "id": "pRYUVIf3jX-p",
        "outputId": "ab789a8f-0b56-49c0-f9bc-17c71ec64509"
      },
      "execution_count": 3,
      "outputs": [
        {
          "output_type": "stream",
          "name": "stdout",
          "text": [
            "Adjective : a\n",
            "Verb : f\n",
            "Verb : f\n",
            "Famous Person : a\n",
            "Computer programming is so a! It make me so excited all the times because I love to f.  Stay hydrated and f like you are a!\n"
          ]
        }
      ]
    },
    {
      "cell_type": "code",
      "source": [
        "from sample_madlibs import hp, code, zombie, hungergames\n",
        "import random\n",
        "\n",
        "if __name__ == \"__main__\":\n",
        "    m = random.choice([hp, code, zombie, hungergames])\n",
        "    m.madlib()"
      ],
      "metadata": {
        "colab": {
          "base_uri": "https://localhost:8080/"
        },
        "id": "Bp9ETPJGlCtl",
        "outputId": "af38efce-c099-4993-85a6-832c050241e5"
      },
      "execution_count": 2,
      "outputs": [
        {
          "output_type": "stream",
          "name": "stdout",
          "text": [
            "Number: 1\n",
            "Adjective: a\n",
            "Verb: b\n",
            "Verb: c\n",
            "Noun: d\n",
            "Noun: e\n",
            "Noun: f\n",
            "Noun: g\n",
            "Noun: h\n",
            "Noun (plural): ii\n",
            "Noun (plural): j\n",
            "Noun (plural): k\n",
            "Name of something that sounds important: l\n",
            "1 seconds. That’s how long we’re required to b on our metal circles before the sound of a d releases us. Step off before the 1 seconds is up, and ii blow your legs off. 1 seconds to take in the ring of tributes all equidistant from the l, a giant a e shaped like a f with a curved tail, the mouth of which is at least twenty feet high, spilling over with the things that will give us life here in the arena. Food, containers of water, j, medicine, garments, k. Strewn around the l are other supplies, their value decreasing the farther they are from the e. For instance, only a few steps from my feet lies a three-foot square of g. Certainly it could be of some use in a downpour. But there in the mouth, I can see a h that would protect from almost any sort of weather. If I had the guts to go in and c for it against the other twenty-three tributes. Which I have been instructed not to do.\n"
          ]
        }
      ]
    }
  ]
}
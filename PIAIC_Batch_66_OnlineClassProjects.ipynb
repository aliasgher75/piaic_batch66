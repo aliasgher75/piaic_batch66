{
  "nbformat": 4,
  "nbformat_minor": 0,
  "metadata": {
    "colab": {
      "provenance": [],
      "authorship_tag": "ABX9TyO6qyiFmvaXAK3sHum+GVpR",
      "include_colab_link": true
    },
    "kernelspec": {
      "name": "python3",
      "display_name": "Python 3"
    },
    "language_info": {
      "name": "python"
    }
  },
  "cells": [
    {
      "cell_type": "markdown",
      "metadata": {
        "id": "view-in-github",
        "colab_type": "text"
      },
      "source": [
        "<a href=\"https://colab.research.google.com/github/aliasgher75/piaic_batch66/blob/main/PIAIC_Batch_66_OnlineClassProjects.ipynb\" target=\"_parent\"><img src=\"https://colab.research.google.com/assets/colab-badge.svg\" alt=\"Open In Colab\"/></a>"
      ]
    },
    {
      "cell_type": "markdown",
      "source": [
        "01_Basics  -->  00_joke_bot"
      ],
      "metadata": {
        "id": "Z2P52NOwvV-l"
      }
    },
    {
      "cell_type": "code",
      "execution_count": 4,
      "metadata": {
        "colab": {
          "base_uri": "https://localhost:8080/"
        },
        "id": "8t5Dmpzlu77p",
        "outputId": "2b09df3e-ac67-49dc-fb02-6a8b5ed5cd46"
      },
      "outputs": [
        {
          "output_type": "stream",
          "name": "stdout",
          "text": [
            "What do you want? a\n",
            "Sorry, I only tell jokes\n"
          ]
        }
      ],
      "source": [
        "def main():\n",
        "  # Define constants\n",
        "  PROMPT = \"What do you want? \"\n",
        "  JOKE = \"Here is a joke for you! Panaversity GPT - Sophia is heading out to the grocery store. A programmer tells her: get a liter of milk, and if they have eggs, get 12. Sophia returns with 13 liters of milk. The programmer asks why and Sophia replies: 'because they had eggs'\"\n",
        "  SORRY = \"Sorry, I only tell jokes\"\n",
        "\n",
        "  user_input = input(PROMPT)\n",
        "  user_input = user_input.strip().lower()\n",
        "\n",
        "  if \"joke\" in user_input:\n",
        "      print(JOKE)\n",
        "  else:\n",
        "      print(SORRY)\n",
        "\n",
        "\n",
        "\n",
        "# This provided line is required at the end of\n",
        "# Python file to call the main() function.\n",
        "if __name__ == '__main__':\n",
        "    main()"
      ]
    },
    {
      "cell_type": "markdown",
      "source": [
        "01_Basics  -->  01_double_it"
      ],
      "metadata": {
        "id": "UEV2Z6ID0HLe"
      }
    },
    {
      "cell_type": "code",
      "source": [
        "def main():\n",
        "  PROMPT = \"Enter Number \"\n",
        "  user_input = int(input(PROMPT))\n",
        "  while(user_input < 100):\n",
        "    user_input = user_input * 2\n",
        "    print(str(user_input)+\" \")\n",
        "\n",
        "# This provided line is required at the end of\n",
        "# Python file to call the main() function.\n",
        "if __name__ == '__main__':\n",
        "    main()"
      ],
      "metadata": {
        "colab": {
          "base_uri": "https://localhost:8080/"
        },
        "id": "H4AVIYky0NlC",
        "outputId": "f84e94d3-6a88-4d46-eb8f-54826fccecc7"
      },
      "execution_count": 7,
      "outputs": [
        {
          "output_type": "stream",
          "name": "stdout",
          "text": [
            "Enter Number 2\n",
            "4 \n",
            "8 \n",
            "16 \n",
            "32 \n",
            "64 \n",
            "128 \n"
          ]
        }
      ]
    }
  ]
}
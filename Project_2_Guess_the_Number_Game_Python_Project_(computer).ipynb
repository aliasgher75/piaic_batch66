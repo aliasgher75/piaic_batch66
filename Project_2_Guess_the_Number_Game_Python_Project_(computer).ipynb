{
  "nbformat": 4,
  "nbformat_minor": 0,
  "metadata": {
    "colab": {
      "provenance": [],
      "authorship_tag": "ABX9TyPDMvnEqtWvi9qaz37UAHRU",
      "include_colab_link": true
    },
    "kernelspec": {
      "name": "python3",
      "display_name": "Python 3"
    },
    "language_info": {
      "name": "python"
    }
  },
  "cells": [
    {
      "cell_type": "markdown",
      "metadata": {
        "id": "view-in-github",
        "colab_type": "text"
      },
      "source": [
        "<a href=\"https://colab.research.google.com/github/aliasgher75/piaic_batch66/blob/main/Project_2_Guess_the_Number_Game_Python_Project_(computer).ipynb\" target=\"_parent\"><img src=\"https://colab.research.google.com/assets/colab-badge.svg\" alt=\"Open In Colab\"/></a>"
      ]
    },
    {
      "cell_type": "code",
      "execution_count": 4,
      "metadata": {
        "colab": {
          "base_uri": "https://localhost:8080/"
        },
        "id": "1v_Mlq0ttMf7",
        "outputId": "3c56711c-7e7a-47a0-f92b-f2dc27389eb1"
      },
      "outputs": [
        {
          "output_type": "stream",
          "name": "stdout",
          "text": [
            "Guess a number between 1 and 10 : 5\n",
            "5\n",
            "Sorry, guess again. Too low.\n",
            "Guess a number between 1 and 10 : 8\n",
            "8\n",
            "Sorry, guess again. Too low.\n",
            "Guess a number between 1 and 10 : 9\n",
            "9\n",
            "Sorry, guess again. Too low.\n",
            "Guess a number between 1 and 10 : 10\n",
            "10\n",
            "Yay, congrats.  You have guessed the number 10 correctly.\n"
          ]
        }
      ],
      "source": [
        "import random\n",
        "\n",
        "def guess(x) :\n",
        "    random_number = random.randint(1, x)\n",
        "    guess = 0\n",
        "    while guess != random_number :\n",
        "        guess = int(input(f'Guess a number between 1 and {x} : '))\n",
        "        print(guess)\n",
        "        if guess < random_number :\n",
        "            print('Sorry, guess again. Too low.')\n",
        "        elif guess > random_number :\n",
        "            print('Sorry, guess again. Too high.')\n",
        "\n",
        "    print(f\"Yay, congrats.  You have guessed the number {guess} correctly.\")\n",
        "\n",
        "\n",
        "guess(10)"
      ]
    }
  ]
}
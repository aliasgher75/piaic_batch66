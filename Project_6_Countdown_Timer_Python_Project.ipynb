{
  "nbformat": 4,
  "nbformat_minor": 0,
  "metadata": {
    "colab": {
      "provenance": [],
      "authorship_tag": "ABX9TyNrS4e8tZYCKRPZNOnDEma6",
      "include_colab_link": true
    },
    "kernelspec": {
      "name": "python3",
      "display_name": "Python 3"
    },
    "language_info": {
      "name": "python"
    }
  },
  "cells": [
    {
      "cell_type": "markdown",
      "metadata": {
        "id": "view-in-github",
        "colab_type": "text"
      },
      "source": [
        "<a href=\"https://colab.research.google.com/github/aliasgher75/piaic_batch66/blob/main/Project_6_Countdown_Timer_Python_Project.ipynb\" target=\"_parent\"><img src=\"https://colab.research.google.com/assets/colab-badge.svg\" alt=\"Open In Colab\"/></a>"
      ]
    },
    {
      "cell_type": "code",
      "execution_count": 13,
      "metadata": {
        "colab": {
          "base_uri": "https://localhost:8080/"
        },
        "id": "sJy1GQ6pM5Fg",
        "outputId": "709448f3-1616-478b-ccfb-763661abb8b5"
      },
      "outputs": [
        {
          "output_type": "stream",
          "name": "stdout",
          "text": [
            "00:01\n",
            "Time's up!\n"
          ]
        }
      ],
      "source": [
        "import time\n",
        "from IPython.display import clear_output\n",
        "\n",
        "def countDown(t):\n",
        "  while t:\n",
        "    mins,secs = divmod(t,60)\n",
        "    timer = '{:02d}:{:02d}'.format(mins,secs)\n",
        "    #print(timer, end=\"\\r\")\n",
        "    clear_output(wait=True)\n",
        "    print(timer)\n",
        "    time.sleep(1)\n",
        "    t -= 1\n",
        "\n",
        "  print(\"Time's up!\")\n",
        "\n",
        "t = int(input(\"Enter the time in seconds: \"))\n",
        "\n",
        "countDown(int(t))\n",
        "\n",
        "\n"
      ]
    }
  ]
}